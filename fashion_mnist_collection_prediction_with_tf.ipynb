{
  "nbformat": 4,
  "nbformat_minor": 0,
  "metadata": {
    "colab": {
      "name": "fashion_mnist_collection_prediction_with_tf.ipynb",
      "version": "0.3.2",
      "provenance": [],
      "include_colab_link": true
    },
    "kernelspec": {
      "name": "python3",
      "display_name": "Python 3"
    }
  },
  "cells": [
    {
      "cell_type": "markdown",
      "metadata": {
        "id": "view-in-github",
        "colab_type": "text"
      },
      "source": [
        "<a href=\"https://colab.research.google.com/github/vishnu123sai/Fashion-Collection-Prediction/blob/master/fashion_mnist_collection_prediction_with_tf.ipynb\" target=\"_parent\"><img src=\"https://colab.research.google.com/assets/colab-badge.svg\" alt=\"Open In Colab\"/></a>"
      ]
    },
    {
      "cell_type": "code",
      "metadata": {
        "id": "DTIaHLl4pbdf",
        "colab_type": "code",
        "colab": {}
      },
      "source": [
        "import tensorflow as tf\n",
        "from tensorflow import keras"
      ],
      "execution_count": 0,
      "outputs": []
    },
    {
      "cell_type": "code",
      "metadata": {
        "id": "aVP85CKapwgC",
        "colab_type": "code",
        "outputId": "c4329437-455b-45c9-f11c-8928d7457df9",
        "colab": {
          "base_uri": "https://localhost:8080/",
          "height": 34
        }
      },
      "source": [
        "tf.__version__\n",
        "keras.__version__"
      ],
      "execution_count": 0,
      "outputs": [
        {
          "output_type": "execute_result",
          "data": {
            "text/plain": [
              "'2.2.4-tf'"
            ]
          },
          "metadata": {
            "tags": []
          },
          "execution_count": 2
        }
      ]
    },
    {
      "cell_type": "code",
      "metadata": {
        "id": "rS_P77uFqCty",
        "colab_type": "code",
        "outputId": "e69863e2-f125-4f3d-a985-63f54e2712c0",
        "colab": {
          "base_uri": "https://localhost:8080/",
          "height": 153
        }
      },
      "source": [
        "# dataset\n",
        "fashion_mnist = keras.datasets.fashion_mnist\n",
        "(X_train_f, y_train_f),(X_test, y_test)  = fashion_mnist.load_data()"
      ],
      "execution_count": 0,
      "outputs": [
        {
          "output_type": "stream",
          "text": [
            "Downloading data from https://storage.googleapis.com/tensorflow/tf-keras-datasets/train-labels-idx1-ubyte.gz\n",
            "32768/29515 [=================================] - 0s 0us/step\n",
            "Downloading data from https://storage.googleapis.com/tensorflow/tf-keras-datasets/train-images-idx3-ubyte.gz\n",
            "26427392/26421880 [==============================] - 0s 0us/step\n",
            "Downloading data from https://storage.googleapis.com/tensorflow/tf-keras-datasets/t10k-labels-idx1-ubyte.gz\n",
            "8192/5148 [===============================================] - 0s 0us/step\n",
            "Downloading data from https://storage.googleapis.com/tensorflow/tf-keras-datasets/t10k-images-idx3-ubyte.gz\n",
            "4423680/4422102 [==============================] - 0s 0us/step\n"
          ],
          "name": "stdout"
        }
      ]
    },
    {
      "cell_type": "code",
      "metadata": {
        "id": "VHRZ-XxQqiet",
        "colab_type": "code",
        "outputId": "57b9690e-35ef-4435-9251-96aae5608ffa",
        "colab": {
          "base_uri": "https://localhost:8080/",
          "height": 34
        }
      },
      "source": [
        "X_train_f.shape"
      ],
      "execution_count": 0,
      "outputs": [
        {
          "output_type": "execute_result",
          "data": {
            "text/plain": [
              "(60000, 28, 28)"
            ]
          },
          "metadata": {
            "tags": []
          },
          "execution_count": 4
        }
      ]
    },
    {
      "cell_type": "code",
      "metadata": {
        "id": "D1yM14urrJZ8",
        "colab_type": "code",
        "outputId": "dbd3e238-936d-427b-f419-4de0bd838e13",
        "colab": {
          "base_uri": "https://localhost:8080/",
          "height": 51
        }
      },
      "source": [
        "#spliting into test and valid dataset\n",
        "\n",
        "X_valid, X_train = X_train_f[:5000] / 255.0 , X_train_f[5000:]/255.0;\n",
        "print(X_valid.shape ,X_train.shape)\n",
        "y_valid, y_train = y_train_f[:5000], y_train_f[5000:];\n",
        "print(y_train.shape, y_valid.shape)"
      ],
      "execution_count": 0,
      "outputs": [
        {
          "output_type": "stream",
          "text": [
            "(5000, 28, 28) (55000, 28, 28)\n",
            "(55000,) (5000,)\n"
          ],
          "name": "stdout"
        }
      ]
    },
    {
      "cell_type": "code",
      "metadata": {
        "id": "5nUfGWQWwNba",
        "colab_type": "code",
        "outputId": "d65dca23-13b9-4de1-fd46-6c586aec4961",
        "colab": {
          "base_uri": "https://localhost:8080/",
          "height": 34
        }
      },
      "source": [
        "#label defining\n",
        "class_names = [\"T_Shirt/Top\",\"Trouser\",\"PullOver\",\"Dress\",\"Coat\",\"Sandal\",\"Shirt\",\"Snekers\",\"Bag\",\"Ankle Boot\"];\n",
        "class_names[y_valid[100]]"
      ],
      "execution_count": 0,
      "outputs": [
        {
          "output_type": "execute_result",
          "data": {
            "text/plain": [
              "'Bag'"
            ]
          },
          "metadata": {
            "tags": []
          },
          "execution_count": 6
        }
      ]
    },
    {
      "cell_type": "code",
      "metadata": {
        "id": "-PdkQ5hDxcr_",
        "colab_type": "code",
        "outputId": "9ccb86c8-1014-4be1-c910-5261f90df311",
        "colab": {
          "base_uri": "https://localhost:8080/",
          "height": 122
        }
      },
      "source": [
        "# Creating model using sequential API\n",
        "\n",
        "model = keras.models.Sequential()\n",
        "print(type(model))\n",
        "model.add(keras.layers.Flatten(input_shape = [28,28]));\n",
        "#Flatten function just makes the input array to 1D\n",
        "# If the input is X then it only preprocess the input by doing X.reshape(-1,1) operation\n",
        "# we can also use keras.layers.InputLayer(input_sahape) alternative for Flattern\n",
        "model.add(keras.layers.Dense(300, activation=\"relu\"));\n",
        "# Dense is a hideen layer we can pass no_of_nuerons and activation fun as parametres to this function\n",
        "#it maintains its own weight matrix\n",
        "#activation = \"relu\" is equal to keras.activartions.Relu\n",
        "model.add(keras.layers.Dense(100, activation=\"relu\"));\n",
        "model.add(keras.layers.Dense(10, activation=\"softmax\"));\n",
        "\n",
        "# we have another way to create the model like \n",
        "# model = keras.models.Sequential()[\n",
        "#   model.add(keras.layers.Flatten(input_shape = [28,28])),\n",
        "#   model.add(keras.layers.Dense(300, activation=\"relu\")),\n",
        "#   model.add(keras.layers.Dense(100, activation=\"relu\")),\n",
        "#   model.add(keras.layers.Dense(10, activation=\"softmax\"))\n",
        "# ];"
      ],
      "execution_count": 0,
      "outputs": [
        {
          "output_type": "stream",
          "text": [
            "WARNING: Logging before flag parsing goes to stderr.\n",
            "W0811 10:51:07.827376 140030594373504 deprecation.py:506] From /usr/local/lib/python3.6/dist-packages/tensorflow/python/ops/init_ops.py:1251: calling VarianceScaling.__init__ (from tensorflow.python.ops.init_ops) with dtype is deprecated and will be removed in a future version.\n",
            "Instructions for updating:\n",
            "Call initializer instance with the dtype argument instead of passing it to the constructor\n"
          ],
          "name": "stderr"
        },
        {
          "output_type": "stream",
          "text": [
            "<class 'tensorflow.python.keras.engine.sequential.Sequential'>\n"
          ],
          "name": "stdout"
        }
      ]
    },
    {
      "cell_type": "code",
      "metadata": {
        "id": "P9m7wm5D5K6X",
        "colab_type": "code",
        "outputId": "5be3f329-6402-4ddb-fbed-b8ca2c645d4e",
        "colab": {
          "base_uri": "https://localhost:8080/",
          "height": 289
        }
      },
      "source": [
        "model.summary()  \n",
        "\n",
        "\n",
        "\n",
        "# Model: \"sequential_3\"\n",
        "# _________________________________________________________________\n",
        "# Layer (type)                 Output Shape              Param #   \n",
        "# =================================================================\n",
        "# flatten_2 (Flatten)          (None, 784)               0         \n",
        "# _________________________________________________________________\n",
        "# dense_6 (Dense)              (None, 300)               235500      (784*300)+ 300 (bias terms)\n",
        "# _________________________________________________________________\n",
        "# dense_7 (Dense)              (None, 100)               30100       (300*100) + 100(bias terms)\n",
        "# _________________________________________________________________\n",
        "# dense_8 (Dense)              (None, 10)                1010         (100 * 10) + 10 (bias terms)\n",
        "# =================================================================\n",
        "# Total params: 266,610\n",
        "# Trainable params: 266,610\n",
        "# Non-trainable params: 0"
      ],
      "execution_count": 0,
      "outputs": [
        {
          "output_type": "stream",
          "text": [
            "Model: \"sequential\"\n",
            "_________________________________________________________________\n",
            "Layer (type)                 Output Shape              Param #   \n",
            "=================================================================\n",
            "flatten (Flatten)            (None, 784)               0         \n",
            "_________________________________________________________________\n",
            "dense (Dense)                (None, 300)               235500    \n",
            "_________________________________________________________________\n",
            "dense_1 (Dense)              (None, 100)               30100     \n",
            "_________________________________________________________________\n",
            "dense_2 (Dense)              (None, 10)                1010      \n",
            "=================================================================\n",
            "Total params: 266,610\n",
            "Trainable params: 266,610\n",
            "Non-trainable params: 0\n",
            "_________________________________________________________________\n"
          ],
          "name": "stdout"
        }
      ]
    },
    {
      "cell_type": "code",
      "metadata": {
        "id": "RUP1kdL46XKZ",
        "colab_type": "code",
        "outputId": "9fb57bb1-fa68-48e8-dea1-6b313dd02437",
        "colab": {
          "base_uri": "https://localhost:8080/",
          "height": 34
        }
      },
      "source": [
        "model.layers\n",
        "print(type(model.layers[1]))"
      ],
      "execution_count": 0,
      "outputs": [
        {
          "output_type": "stream",
          "text": [
            "<class 'tensorflow.python.keras.layers.core.Dense'>\n"
          ],
          "name": "stdout"
        }
      ]
    },
    {
      "cell_type": "code",
      "metadata": {
        "id": "tMrErLp_6b3H",
        "colab_type": "code",
        "outputId": "4d58059d-828e-4a86-93d4-07ed636e68b2",
        "colab": {
          "base_uri": "https://localhost:8080/",
          "height": 34
        }
      },
      "source": [
        "# weights and bias terms \n",
        "w, b = model.layers[1].get_weights()\n",
        "w.shape  \n",
        "# weights are assigned randomly while intializing the values\n",
        "b.shape\n",
        "#bias values are assigned as zeros \n"
      ],
      "execution_count": 0,
      "outputs": [
        {
          "output_type": "execute_result",
          "data": {
            "text/plain": [
              "(300,)"
            ]
          },
          "metadata": {
            "tags": []
          },
          "execution_count": 10
        }
      ]
    },
    {
      "cell_type": "code",
      "metadata": {
        "id": "ajrzgZTlJHi8",
        "colab_type": "code",
        "colab": {}
      },
      "source": [
        "# once the model is created we need to compile the model \n",
        "# while compiling the model we need pass some parameters like \n",
        "# 1. loss function or cost function (required)\n",
        "# 2. optimizer (required)\n",
        "# 3. metrics (optional)\n",
        "\n",
        "model.compile(loss=keras.losses.sparse_categorical_crossentropy,optimizer=\"sgd\", metrics=['accuracy'])"
      ],
      "execution_count": 0,
      "outputs": []
    },
    {
      "cell_type": "code",
      "metadata": {
        "id": "SeTxpu6_lQgB",
        "colab_type": "code",
        "colab": {}
      },
      "source": [
        ""
      ],
      "execution_count": 0,
      "outputs": []
    },
    {
      "cell_type": "code",
      "metadata": {
        "colab_type": "code",
        "outputId": "42ca9ef0-744b-4982-9cb0-7acad5de6941",
        "id": "sG7kP7RAlcnf",
        "colab": {
          "base_uri": "https://localhost:8080/",
          "height": 1000
        }
      },
      "source": [
        "history = model.fit(X_train,y_train, epochs=50, validation_data=(X_valid,y_valid))"
      ],
      "execution_count": 0,
      "outputs": [
        {
          "output_type": "stream",
          "text": [
            "Train on 55000 samples, validate on 5000 samples\n",
            "Epoch 1/50\n",
            "55000/55000 [==============================] - 6s 102us/sample - loss: 0.7104 - acc: 0.7665 - val_loss: 0.5096 - val_acc: 0.8312\n",
            "Epoch 2/50\n",
            "55000/55000 [==============================] - 5s 95us/sample - loss: 0.4846 - acc: 0.8321 - val_loss: 0.4361 - val_acc: 0.8506\n",
            "Epoch 3/50\n",
            "55000/55000 [==============================] - 5s 97us/sample - loss: 0.4411 - acc: 0.8442 - val_loss: 0.4191 - val_acc: 0.8544\n",
            "Epoch 4/50\n",
            "55000/55000 [==============================] - 6s 103us/sample - loss: 0.4125 - acc: 0.8556 - val_loss: 0.4066 - val_acc: 0.8630\n",
            "Epoch 5/50\n",
            "55000/55000 [==============================] - 5s 98us/sample - loss: 0.3936 - acc: 0.8618 - val_loss: 0.3835 - val_acc: 0.8706\n",
            "Epoch 6/50\n",
            "55000/55000 [==============================] - 5s 98us/sample - loss: 0.3771 - acc: 0.8668 - val_loss: 0.3905 - val_acc: 0.8628\n",
            "Epoch 7/50\n",
            "55000/55000 [==============================] - 5s 95us/sample - loss: 0.3640 - acc: 0.8707 - val_loss: 0.3638 - val_acc: 0.8738\n",
            "Epoch 8/50\n",
            "55000/55000 [==============================] - 5s 94us/sample - loss: 0.3527 - acc: 0.8743 - val_loss: 0.3662 - val_acc: 0.8718\n",
            "Epoch 9/50\n",
            "55000/55000 [==============================] - 5s 92us/sample - loss: 0.3413 - acc: 0.8785 - val_loss: 0.3521 - val_acc: 0.8776\n",
            "Epoch 10/50\n",
            "55000/55000 [==============================] - 5s 99us/sample - loss: 0.3327 - acc: 0.8807 - val_loss: 0.3501 - val_acc: 0.8758\n",
            "Epoch 11/50\n",
            "55000/55000 [==============================] - 5s 96us/sample - loss: 0.3239 - acc: 0.8845 - val_loss: 0.3361 - val_acc: 0.8820\n",
            "Epoch 12/50\n",
            "55000/55000 [==============================] - 6s 106us/sample - loss: 0.3161 - acc: 0.8869 - val_loss: 0.3367 - val_acc: 0.8820\n",
            "Epoch 13/50\n",
            "55000/55000 [==============================] - 6s 101us/sample - loss: 0.3088 - acc: 0.8889 - val_loss: 0.3244 - val_acc: 0.8864\n",
            "Epoch 14/50\n",
            "55000/55000 [==============================] - 6s 103us/sample - loss: 0.3024 - acc: 0.8911 - val_loss: 0.3278 - val_acc: 0.8840\n",
            "Epoch 15/50\n",
            "55000/55000 [==============================] - 6s 111us/sample - loss: 0.2966 - acc: 0.8935 - val_loss: 0.3227 - val_acc: 0.8840\n",
            "Epoch 16/50\n",
            "55000/55000 [==============================] - 6s 109us/sample - loss: 0.2906 - acc: 0.8957 - val_loss: 0.3447 - val_acc: 0.8738\n",
            "Epoch 17/50\n",
            "55000/55000 [==============================] - 6s 108us/sample - loss: 0.2845 - acc: 0.8984 - val_loss: 0.3254 - val_acc: 0.8842\n",
            "Epoch 18/50\n",
            "55000/55000 [==============================] - 6s 105us/sample - loss: 0.2795 - acc: 0.9000 - val_loss: 0.3241 - val_acc: 0.8842\n",
            "Epoch 19/50\n",
            "55000/55000 [==============================] - 6s 105us/sample - loss: 0.2738 - acc: 0.9009 - val_loss: 0.3114 - val_acc: 0.8926\n",
            "Epoch 20/50\n",
            "55000/55000 [==============================] - 6s 103us/sample - loss: 0.2681 - acc: 0.9043 - val_loss: 0.3177 - val_acc: 0.8880\n",
            "Epoch 21/50\n",
            "55000/55000 [==============================] - 6s 105us/sample - loss: 0.2643 - acc: 0.9053 - val_loss: 0.3070 - val_acc: 0.8904\n",
            "Epoch 22/50\n",
            "55000/55000 [==============================] - 6s 105us/sample - loss: 0.2602 - acc: 0.9061 - val_loss: 0.3058 - val_acc: 0.8916\n",
            "Epoch 23/50\n",
            "55000/55000 [==============================] - 6s 102us/sample - loss: 0.2554 - acc: 0.9073 - val_loss: 0.3316 - val_acc: 0.8804\n",
            "Epoch 24/50\n",
            "55000/55000 [==============================] - 6s 107us/sample - loss: 0.2510 - acc: 0.9101 - val_loss: 0.3433 - val_acc: 0.8784\n",
            "Epoch 25/50\n",
            "55000/55000 [==============================] - 6s 106us/sample - loss: 0.2466 - acc: 0.9106 - val_loss: 0.3038 - val_acc: 0.8916\n",
            "Epoch 26/50\n",
            "55000/55000 [==============================] - 6s 107us/sample - loss: 0.2421 - acc: 0.9141 - val_loss: 0.3058 - val_acc: 0.8866\n",
            "Epoch 27/50\n",
            "55000/55000 [==============================] - 6s 102us/sample - loss: 0.2387 - acc: 0.9140 - val_loss: 0.2979 - val_acc: 0.8944\n",
            "Epoch 28/50\n",
            "55000/55000 [==============================] - 6s 109us/sample - loss: 0.2352 - acc: 0.9153 - val_loss: 0.3012 - val_acc: 0.8914\n",
            "Epoch 29/50\n",
            "55000/55000 [==============================] - 6s 102us/sample - loss: 0.2313 - acc: 0.9173 - val_loss: 0.3068 - val_acc: 0.8926\n",
            "Epoch 30/50\n",
            "55000/55000 [==============================] - 5s 99us/sample - loss: 0.2280 - acc: 0.9176 - val_loss: 0.3054 - val_acc: 0.8884\n",
            "Epoch 31/50\n",
            "55000/55000 [==============================] - 5s 98us/sample - loss: 0.2243 - acc: 0.9203 - val_loss: 0.3001 - val_acc: 0.8926\n",
            "Epoch 32/50\n",
            "55000/55000 [==============================] - 6s 103us/sample - loss: 0.2201 - acc: 0.9208 - val_loss: 0.3046 - val_acc: 0.8916\n",
            "Epoch 33/50\n",
            "55000/55000 [==============================] - 5s 99us/sample - loss: 0.2165 - acc: 0.9233 - val_loss: 0.2927 - val_acc: 0.8928\n",
            "Epoch 34/50\n",
            "55000/55000 [==============================] - 6s 101us/sample - loss: 0.2135 - acc: 0.9237 - val_loss: 0.2890 - val_acc: 0.8962\n",
            "Epoch 35/50\n",
            "55000/55000 [==============================] - 6s 102us/sample - loss: 0.2104 - acc: 0.9243 - val_loss: 0.2948 - val_acc: 0.8968\n",
            "Epoch 36/50\n",
            "55000/55000 [==============================] - 5s 96us/sample - loss: 0.2074 - acc: 0.9253 - val_loss: 0.2967 - val_acc: 0.8922\n",
            "Epoch 37/50\n",
            "55000/55000 [==============================] - 5s 97us/sample - loss: 0.2035 - acc: 0.9277 - val_loss: 0.2965 - val_acc: 0.8932\n",
            "Epoch 38/50\n",
            "55000/55000 [==============================] - 6s 100us/sample - loss: 0.2008 - acc: 0.9287 - val_loss: 0.2825 - val_acc: 0.8992\n",
            "Epoch 39/50\n",
            "55000/55000 [==============================] - 6s 101us/sample - loss: 0.1977 - acc: 0.9290 - val_loss: 0.2975 - val_acc: 0.8976\n",
            "Epoch 40/50\n",
            "55000/55000 [==============================] - 6s 104us/sample - loss: 0.1945 - acc: 0.9300 - val_loss: 0.2920 - val_acc: 0.8988\n",
            "Epoch 41/50\n",
            "55000/55000 [==============================] - 6s 106us/sample - loss: 0.1923 - acc: 0.9311 - val_loss: 0.3113 - val_acc: 0.8884\n",
            "Epoch 42/50\n",
            "55000/55000 [==============================] - 6s 106us/sample - loss: 0.1895 - acc: 0.9324 - val_loss: 0.2854 - val_acc: 0.8976\n",
            "Epoch 43/50\n",
            "55000/55000 [==============================] - 6s 103us/sample - loss: 0.1863 - acc: 0.9336 - val_loss: 0.3018 - val_acc: 0.8874\n",
            "Epoch 44/50\n",
            "55000/55000 [==============================] - 6s 107us/sample - loss: 0.1833 - acc: 0.9343 - val_loss: 0.2944 - val_acc: 0.8944\n",
            "Epoch 45/50\n",
            "55000/55000 [==============================] - 6s 104us/sample - loss: 0.1813 - acc: 0.9362 - val_loss: 0.2938 - val_acc: 0.8994\n",
            "Epoch 46/50\n",
            "55000/55000 [==============================] - 6s 105us/sample - loss: 0.1772 - acc: 0.9363 - val_loss: 0.2907 - val_acc: 0.8958\n",
            "Epoch 47/50\n",
            "55000/55000 [==============================] - 6s 101us/sample - loss: 0.1746 - acc: 0.9384 - val_loss: 0.2978 - val_acc: 0.8934\n",
            "Epoch 48/50\n",
            "55000/55000 [==============================] - 6s 102us/sample - loss: 0.1713 - acc: 0.9385 - val_loss: 0.2855 - val_acc: 0.8978\n",
            "Epoch 49/50\n",
            "55000/55000 [==============================] - 6s 102us/sample - loss: 0.1690 - acc: 0.9401 - val_loss: 0.3171 - val_acc: 0.8894\n",
            "Epoch 50/50\n",
            "55000/55000 [==============================] - 6s 102us/sample - loss: 0.1667 - acc: 0.9416 - val_loss: 0.3148 - val_acc: 0.8898\n"
          ],
          "name": "stdout"
        }
      ]
    },
    {
      "cell_type": "code",
      "metadata": {
        "id": "jwXUNKRrle8f",
        "colab_type": "code",
        "outputId": "c5b8ba56-7828-4bb5-e476-bb7af7d58ecf",
        "colab": {
          "base_uri": "https://localhost:8080/",
          "height": 1000
        }
      },
      "source": [
        "history.history"
      ],
      "execution_count": 0,
      "outputs": [
        {
          "output_type": "execute_result",
          "data": {
            "text/plain": [
              "{'acc': [0.76649094,\n",
              "  0.8321273,\n",
              "  0.8442,\n",
              "  0.8556,\n",
              "  0.8618,\n",
              "  0.8668182,\n",
              "  0.8707273,\n",
              "  0.87430906,\n",
              "  0.87845457,\n",
              "  0.8806546,\n",
              "  0.8844909,\n",
              "  0.8868545,\n",
              "  0.8889091,\n",
              "  0.8911091,\n",
              "  0.8935091,\n",
              "  0.8957091,\n",
              "  0.8984182,\n",
              "  0.90001816,\n",
              "  0.90090907,\n",
              "  0.90427274,\n",
              "  0.90532726,\n",
              "  0.90607274,\n",
              "  0.9073455,\n",
              "  0.91014546,\n",
              "  0.91063637,\n",
              "  0.9140546,\n",
              "  0.9139818,\n",
              "  0.9152909,\n",
              "  0.9173091,\n",
              "  0.9175818,\n",
              "  0.9202909,\n",
              "  0.9207818,\n",
              "  0.9232909,\n",
              "  0.9237273,\n",
              "  0.92434543,\n",
              "  0.9252545,\n",
              "  0.9277273,\n",
              "  0.92874545,\n",
              "  0.92898184,\n",
              "  0.93,\n",
              "  0.9310909,\n",
              "  0.9323636,\n",
              "  0.9335818,\n",
              "  0.9342545,\n",
              "  0.93618184,\n",
              "  0.9363273,\n",
              "  0.9383636,\n",
              "  0.93854547,\n",
              "  0.9401091,\n",
              "  0.9416],\n",
              " 'loss': [0.7103612293200059,\n",
              "  0.48456431800018657,\n",
              "  0.44110507387247955,\n",
              "  0.41252170994932,\n",
              "  0.39356281310211527,\n",
              "  0.37705457664403047,\n",
              "  0.3640092486208135,\n",
              "  0.35269860292347993,\n",
              "  0.34127194931290367,\n",
              "  0.3327182404908267,\n",
              "  0.32392919809168036,\n",
              "  0.3160535481041128,\n",
              "  0.30884774446920915,\n",
              "  0.30239935878840357,\n",
              "  0.29658477395231075,\n",
              "  0.2905949730417945,\n",
              "  0.28448902722922237,\n",
              "  0.27953208521929657,\n",
              "  0.2737516564271667,\n",
              "  0.26806110668074,\n",
              "  0.2642874023719267,\n",
              "  0.26021403935172344,\n",
              "  0.2554464254238389,\n",
              "  0.25096143087690526,\n",
              "  0.24663552672863007,\n",
              "  0.24208737880750136,\n",
              "  0.23868234091021798,\n",
              "  0.23520922729535537,\n",
              "  0.23129279961260882,\n",
              "  0.22795186148340052,\n",
              "  0.22428761011687193,\n",
              "  0.2200948605093089,\n",
              "  0.2164705072858117,\n",
              "  0.2135186264612458,\n",
              "  0.21037372739856894,\n",
              "  0.20744111866734244,\n",
              "  0.20349147449189967,\n",
              "  0.20076827018152585,\n",
              "  0.1976653347340497,\n",
              "  0.19449450632442128,\n",
              "  0.19232253655791282,\n",
              "  0.18953084152286703,\n",
              "  0.1862913103222847,\n",
              "  0.183273465692997,\n",
              "  0.18126947667273607,\n",
              "  0.1772056120812893,\n",
              "  0.17460353105826812,\n",
              "  0.17128028791004962,\n",
              "  0.16899357937032528,\n",
              "  0.16669382169707256],\n",
              " 'val_acc': [0.8312,\n",
              "  0.8506,\n",
              "  0.8544,\n",
              "  0.863,\n",
              "  0.8706,\n",
              "  0.8628,\n",
              "  0.8738,\n",
              "  0.8718,\n",
              "  0.8776,\n",
              "  0.8758,\n",
              "  0.882,\n",
              "  0.882,\n",
              "  0.8864,\n",
              "  0.884,\n",
              "  0.884,\n",
              "  0.8738,\n",
              "  0.8842,\n",
              "  0.8842,\n",
              "  0.8926,\n",
              "  0.888,\n",
              "  0.8904,\n",
              "  0.8916,\n",
              "  0.8804,\n",
              "  0.8784,\n",
              "  0.8916,\n",
              "  0.8866,\n",
              "  0.8944,\n",
              "  0.8914,\n",
              "  0.8926,\n",
              "  0.8884,\n",
              "  0.8926,\n",
              "  0.8916,\n",
              "  0.8928,\n",
              "  0.8962,\n",
              "  0.8968,\n",
              "  0.8922,\n",
              "  0.8932,\n",
              "  0.8992,\n",
              "  0.8976,\n",
              "  0.8988,\n",
              "  0.8884,\n",
              "  0.8976,\n",
              "  0.8874,\n",
              "  0.8944,\n",
              "  0.8994,\n",
              "  0.8958,\n",
              "  0.8934,\n",
              "  0.8978,\n",
              "  0.8894,\n",
              "  0.8898],\n",
              " 'val_loss': [0.5095889243125915,\n",
              "  0.43608786783218384,\n",
              "  0.4191247091293335,\n",
              "  0.40664091968536376,\n",
              "  0.3834800697803497,\n",
              "  0.39049420623779296,\n",
              "  0.36378747329711913,\n",
              "  0.36616495859622955,\n",
              "  0.3521346489906311,\n",
              "  0.35010797419548034,\n",
              "  0.3360576803684235,\n",
              "  0.33667209809422494,\n",
              "  0.3244219667911529,\n",
              "  0.3278145953655243,\n",
              "  0.32271196999549867,\n",
              "  0.3446937731742859,\n",
              "  0.3254369989156723,\n",
              "  0.32409107389450076,\n",
              "  0.3114066593647003,\n",
              "  0.3176951407432556,\n",
              "  0.30699232926368714,\n",
              "  0.3057975374221802,\n",
              "  0.3316129387617111,\n",
              "  0.34329615445137024,\n",
              "  0.30375061291456223,\n",
              "  0.3057786978960037,\n",
              "  0.29785174474716186,\n",
              "  0.3012284901380539,\n",
              "  0.3068356544286013,\n",
              "  0.30542189968824385,\n",
              "  0.3000843050122261,\n",
              "  0.30457277488708495,\n",
              "  0.2927236212968826,\n",
              "  0.2890417633533478,\n",
              "  0.29475963881015776,\n",
              "  0.2966610949516296,\n",
              "  0.2964721707561053,\n",
              "  0.28252380168437957,\n",
              "  0.2974768086194992,\n",
              "  0.29197861592769625,\n",
              "  0.3113014464378357,\n",
              "  0.2854206903219223,\n",
              "  0.30178376400470736,\n",
              "  0.2943587610810995,\n",
              "  0.2938400362432003,\n",
              "  0.29072943942546847,\n",
              "  0.2978496371500194,\n",
              "  0.28550122238397596,\n",
              "  0.31707974171638487,\n",
              "  0.3147586194038391]}"
            ]
          },
          "metadata": {
            "tags": []
          },
          "execution_count": 13
        }
      ]
    },
    {
      "cell_type": "code",
      "metadata": {
        "id": "01En6I9b7Y9c",
        "colab_type": "code",
        "colab": {}
      },
      "source": [
        ""
      ],
      "execution_count": 0,
      "outputs": []
    },
    {
      "cell_type": "code",
      "metadata": {
        "id": "O3TRwo2ql1aP",
        "colab_type": "code",
        "outputId": "99226031-82f9-41c0-a85a-be472307fef5",
        "colab": {
          "base_uri": "https://localhost:8080/",
          "height": 340
        }
      },
      "source": [
        "import pandas as pd\n",
        "pd.DataFrame(history.history).plot(figsize=(8,5))"
      ],
      "execution_count": 0,
      "outputs": [
        {
          "output_type": "execute_result",
          "data": {
            "text/plain": [
              "<matplotlib.axes._subplots.AxesSubplot at 0x7f5b2b1e26d8>"
            ]
          },
          "metadata": {
            "tags": []
          },
          "execution_count": 14
        },
        {
          "output_type": "display_data",
          "data": {
            "image/png": "[encoded data removed]",
            "text/plain": [
              "<Figure size 576x360 with 1 Axes>"
            ]
          },
          "metadata": {
            "tags": []
          }
        }
      ]
    },
    {
      "cell_type": "code",
      "metadata": {
        "id": "24LlkCdwmdjn",
        "colab_type": "code",
        "outputId": "db461ad4-1226-4140-c468-8e24ac055533",
        "colab": {
          "base_uri": "https://localhost:8080/",
          "height": 51
        }
      },
      "source": [
        "model.evaluate(X_test,y_test)"
      ],
      "execution_count": 0,
      "outputs": [
        {
          "output_type": "stream",
          "text": [
            "10000/10000 [==============================] - 0s 47us/sample - loss: 74.5850 - acc: 0.8470\n"
          ],
          "name": "stdout"
        },
        {
          "output_type": "execute_result",
          "data": {
            "text/plain": [
              "[74.58496237792968, 0.847]"
            ]
          },
          "metadata": {
            "tags": []
          },
          "execution_count": 15
        }
      ]
    },
    {
      "cell_type": "code",
      "metadata": {
        "id": "SAgCw7GOmuTW",
        "colab_type": "code",
        "outputId": "605617d3-b617-460d-e1bb-874260e3bafe",
        "colab": {
          "base_uri": "https://localhost:8080/",
          "height": 68
        }
      },
      "source": [
        "X_n = X_test[:3]\n",
        "y = model.predict(X_n)\n",
        "y.round(2)"
      ],
      "execution_count": 0,
      "outputs": [
        {
          "output_type": "execute_result",
          "data": {
            "text/plain": [
              "array([[0., 0., 0., 0., 0., 0., 0., 0., 0., 1.],\n",
              "       [0., 0., 1., 0., 0., 0., 0., 0., 0., 0.],\n",
              "       [0., 1., 0., 0., 0., 0., 0., 0., 0., 0.]], dtype=float32)"
            ]
          },
          "metadata": {
            "tags": []
          },
          "execution_count": 16
        }
      ]
    },
    {
      "cell_type": "code",
      "metadata": {
        "id": "nR1K5ILxnOQW",
        "colab_type": "code",
        "outputId": "e206e0e2-adc4-48c2-8747-65580a4d01b3",
        "colab": {
          "base_uri": "https://localhost:8080/",
          "height": 51
        }
      },
      "source": [
        "X_n = X_test[10:30]\n",
        "y_pred = model.predict_classes(X_n)\n",
        "print(y_pred)\n",
        "print(y_test[10:30])"
      ],
      "execution_count": 0,
      "outputs": [
        {
          "output_type": "stream",
          "text": [
            "[4 5 5 3 4 1 2 2 8 0 2 5 7 5 1 4 6 0 9 4]\n",
            "[4 5 7 3 4 1 2 4 8 0 2 5 7 9 1 4 6 0 9 3]\n"
          ],
          "name": "stdout"
        }
      ]
    }
  ]
}